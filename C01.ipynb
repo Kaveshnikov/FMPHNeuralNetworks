{
  "nbformat": 4,
  "nbformat_minor": 0,
  "metadata": {
    "colab": {
      "provenance": [],
      "authorship_tag": "ABX9TyO+eQ2moGl2puOkG7XaD2nv",
      "include_colab_link": true
    },
    "kernelspec": {
      "name": "python3",
      "display_name": "Python 3"
    },
    "language_info": {
      "name": "python"
    }
  },
  "cells": [
    {
      "cell_type": "markdown",
      "metadata": {
        "id": "view-in-github",
        "colab_type": "text"
      },
      "source": [
        "<a href=\"https://colab.research.google.com/github/Kaveshnikov/FMPHNeuralNetworks/blob/master/C01.ipynb\" target=\"_parent\"><img src=\"https://colab.research.google.com/assets/colab-badge.svg\" alt=\"Open In Colab\"/></a>"
      ]
    },
    {
      "cell_type": "code",
      "execution_count": 9,
      "metadata": {
        "colab": {
          "base_uri": "https://localhost:8080/"
        },
        "id": "WMlbUweGobOT",
        "outputId": "c032eac7-ba9f-4504-ef82-9ef93b9e2192"
      },
      "outputs": [
        {
          "output_type": "execute_result",
          "data": {
            "text/plain": [
              "array([[ 0],\n",
              "       [ 1],\n",
              "       [ 2],\n",
              "       [ 3],\n",
              "       [ 4],\n",
              "       [ 5],\n",
              "       [ 6],\n",
              "       [ 7],\n",
              "       [ 8],\n",
              "       [ 9],\n",
              "       [10],\n",
              "       [11],\n",
              "       [12],\n",
              "       [13],\n",
              "       [14],\n",
              "       [15],\n",
              "       [16],\n",
              "       [17],\n",
              "       [18],\n",
              "       [19],\n",
              "       [20],\n",
              "       [21],\n",
              "       [22],\n",
              "       [23],\n",
              "       [24],\n",
              "       [25],\n",
              "       [26],\n",
              "       [27],\n",
              "       [28],\n",
              "       [29],\n",
              "       [30],\n",
              "       [31],\n",
              "       [32],\n",
              "       [33],\n",
              "       [34],\n",
              "       [35],\n",
              "       [36],\n",
              "       [37],\n",
              "       [38],\n",
              "       [39],\n",
              "       [40],\n",
              "       [41],\n",
              "       [42],\n",
              "       [43],\n",
              "       [44],\n",
              "       [45],\n",
              "       [46],\n",
              "       [47],\n",
              "       [48],\n",
              "       [49],\n",
              "       [50],\n",
              "       [51],\n",
              "       [52],\n",
              "       [53],\n",
              "       [54],\n",
              "       [55],\n",
              "       [56],\n",
              "       [57],\n",
              "       [58],\n",
              "       [59],\n",
              "       [60],\n",
              "       [61],\n",
              "       [62],\n",
              "       [63],\n",
              "       [64],\n",
              "       [65],\n",
              "       [66],\n",
              "       [67],\n",
              "       [68],\n",
              "       [69],\n",
              "       [70],\n",
              "       [71],\n",
              "       [72],\n",
              "       [73],\n",
              "       [74],\n",
              "       [75],\n",
              "       [76],\n",
              "       [77],\n",
              "       [78],\n",
              "       [79],\n",
              "       [80],\n",
              "       [81],\n",
              "       [82],\n",
              "       [83],\n",
              "       [84],\n",
              "       [85],\n",
              "       [86],\n",
              "       [87],\n",
              "       [88],\n",
              "       [89],\n",
              "       [90],\n",
              "       [91],\n",
              "       [92],\n",
              "       [93],\n",
              "       [94],\n",
              "       [95],\n",
              "       [96],\n",
              "       [97],\n",
              "       [98],\n",
              "       [99]])"
            ]
          },
          "metadata": {},
          "execution_count": 9
        }
      ],
      "source": [
        "# Neural Networks (2-AIN-132/15), FMFI UK BA\n",
        "# (c) Tomas Kuzma, Juraj Holas, Peter Gergel, Endre Hamerlik, Štefan Pócoš, Iveta Bečková 2017-2024\n",
        "\n",
        "import numpy as np\n",
        "import matplotlib.pyplot as plt\n",
        "\n",
        "\n",
        "## Generate data\n",
        "# number of points\n",
        "N = 100\n",
        "\n",
        "# generate x values\n",
        "x = np.arange(N).reshape(-1, 1)   # FIXME: vector [0, 1, 2, ..., N-1]\n",
        "x"
      ]
    },
    {
      "cell_type": "code",
      "source": [
        "# generate random slope (k) and shift (q)\n",
        "k = np.random.rand()   # FIXME: random number from normal distribution\n",
        "k"
      ],
      "metadata": {
        "colab": {
          "base_uri": "https://localhost:8080/"
        },
        "id": "M2exAAm8p7Id",
        "outputId": "10a1b55e-9306-443d-dc08-5dda1ed1ca89"
      },
      "execution_count": 3,
      "outputs": [
        {
          "output_type": "execute_result",
          "data": {
            "text/plain": [
              "-1.1477770347537786"
            ]
          },
          "metadata": {},
          "execution_count": 3
        }
      ]
    },
    {
      "cell_type": "code",
      "source": [
        "q = np.random.randn()   # FIXME: random number from uniform distribution\n",
        "q"
      ],
      "metadata": {
        "colab": {
          "base_uri": "https://localhost:8080/"
        },
        "id": "Rz32mHCeqJe_",
        "outputId": "bfe84923-3fab-40bd-8ea8-91c560bc0f11"
      },
      "execution_count": 4,
      "outputs": [
        {
          "output_type": "execute_result",
          "data": {
            "text/plain": [
              "2.158313865172439"
            ]
          },
          "metadata": {},
          "execution_count": 4
        }
      ]
    },
    {
      "cell_type": "code",
      "source": [
        "# calculate y values\n",
        "y = k * x + q   # FIXME: according to slides\n",
        "y"
      ],
      "metadata": {
        "colab": {
          "base_uri": "https://localhost:8080/"
        },
        "id": "sv7Q9aeQqHXH",
        "outputId": "f6183276-67c4-47f6-be91-fe9e9aafbad2"
      },
      "execution_count": 5,
      "outputs": [
        {
          "output_type": "execute_result",
          "data": {
            "text/plain": [
              "array([[ 2.15831387],\n",
              "       [ 2.87543908],\n",
              "       [ 3.5925643 ],\n",
              "       [ 4.30968952],\n",
              "       [ 5.02681474],\n",
              "       [ 5.74393996],\n",
              "       [ 6.46106518],\n",
              "       [ 7.1781904 ],\n",
              "       [ 7.89531562],\n",
              "       [ 8.61244083],\n",
              "       [ 9.32956605],\n",
              "       [10.04669127],\n",
              "       [10.76381649],\n",
              "       [11.48094171],\n",
              "       [12.19806693],\n",
              "       [12.91519215],\n",
              "       [13.63231736],\n",
              "       [14.34944258],\n",
              "       [15.0665678 ],\n",
              "       [15.78369302],\n",
              "       [16.50081824],\n",
              "       [17.21794346],\n",
              "       [17.93506868],\n",
              "       [18.6521939 ],\n",
              "       [19.36931911],\n",
              "       [20.08644433],\n",
              "       [20.80356955],\n",
              "       [21.52069477],\n",
              "       [22.23781999],\n",
              "       [22.95494521],\n",
              "       [23.67207043],\n",
              "       [24.38919565],\n",
              "       [25.10632086],\n",
              "       [25.82344608],\n",
              "       [26.5405713 ],\n",
              "       [27.25769652],\n",
              "       [27.97482174],\n",
              "       [28.69194696],\n",
              "       [29.40907218],\n",
              "       [30.1261974 ],\n",
              "       [30.84332261],\n",
              "       [31.56044783],\n",
              "       [32.27757305],\n",
              "       [32.99469827],\n",
              "       [33.71182349],\n",
              "       [34.42894871],\n",
              "       [35.14607393],\n",
              "       [35.86319915],\n",
              "       [36.58032436],\n",
              "       [37.29744958],\n",
              "       [38.0145748 ],\n",
              "       [38.73170002],\n",
              "       [39.44882524],\n",
              "       [40.16595046],\n",
              "       [40.88307568],\n",
              "       [41.6002009 ],\n",
              "       [42.31732611],\n",
              "       [43.03445133],\n",
              "       [43.75157655],\n",
              "       [44.46870177],\n",
              "       [45.18582699],\n",
              "       [45.90295221],\n",
              "       [46.62007743],\n",
              "       [47.33720265],\n",
              "       [48.05432786],\n",
              "       [48.77145308],\n",
              "       [49.4885783 ],\n",
              "       [50.20570352],\n",
              "       [50.92282874],\n",
              "       [51.63995396],\n",
              "       [52.35707918],\n",
              "       [53.0742044 ],\n",
              "       [53.79132961],\n",
              "       [54.50845483],\n",
              "       [55.22558005],\n",
              "       [55.94270527],\n",
              "       [56.65983049],\n",
              "       [57.37695571],\n",
              "       [58.09408093],\n",
              "       [58.81120615],\n",
              "       [59.52833136],\n",
              "       [60.24545658],\n",
              "       [60.9625818 ],\n",
              "       [61.67970702],\n",
              "       [62.39683224],\n",
              "       [63.11395746],\n",
              "       [63.83108268],\n",
              "       [64.5482079 ],\n",
              "       [65.26533311],\n",
              "       [65.98245833],\n",
              "       [66.69958355],\n",
              "       [67.41670877],\n",
              "       [68.13383399],\n",
              "       [68.85095921],\n",
              "       [69.56808443],\n",
              "       [70.28520964],\n",
              "       [71.00233486],\n",
              "       [71.71946008],\n",
              "       [72.4365853 ],\n",
              "       [73.15371052]])"
            ]
          },
          "metadata": {},
          "execution_count": 5
        }
      ]
    },
    {
      "cell_type": "code",
      "source": [
        "# add noise\n",
        "rng = np.random.default_rng()\n",
        "y += rng.standard_normal(y.size).reshape(-1, 1)  # FIXME: add vector of random values from normal distribution\n",
        "y"
      ],
      "metadata": {
        "colab": {
          "base_uri": "https://localhost:8080/"
        },
        "id": "K14qvSLyqQLo",
        "outputId": "7a0505a1-ac57-4275-88de-290eaa70850f"
      },
      "execution_count": 7,
      "outputs": [
        {
          "output_type": "execute_result",
          "data": {
            "text/plain": [
              "array([[ 1.10359019],\n",
              "       [ 4.56960227],\n",
              "       [ 1.27147338],\n",
              "       [ 2.84927172],\n",
              "       [ 5.79736492],\n",
              "       [ 5.7715304 ],\n",
              "       [ 5.35815094],\n",
              "       [ 7.31747089],\n",
              "       [ 7.68332119],\n",
              "       [ 9.42712305],\n",
              "       [10.80293473],\n",
              "       [10.98592463],\n",
              "       [10.2402863 ],\n",
              "       [10.85022985],\n",
              "       [13.33368   ],\n",
              "       [15.97597629],\n",
              "       [14.06072473],\n",
              "       [13.77867901],\n",
              "       [16.06167771],\n",
              "       [14.93911257],\n",
              "       [16.80849139],\n",
              "       [17.53544515],\n",
              "       [16.4180891 ],\n",
              "       [20.90989233],\n",
              "       [20.1322291 ],\n",
              "       [19.23485539],\n",
              "       [20.10253261],\n",
              "       [19.67153731],\n",
              "       [22.43688185],\n",
              "       [24.05694653],\n",
              "       [24.20297752],\n",
              "       [25.91902353],\n",
              "       [24.61118315],\n",
              "       [23.17035707],\n",
              "       [28.10717533],\n",
              "       [27.08809699],\n",
              "       [26.12931767],\n",
              "       [28.11303506],\n",
              "       [29.73418701],\n",
              "       [28.91450051],\n",
              "       [31.48728438],\n",
              "       [31.92713764],\n",
              "       [32.26301582],\n",
              "       [32.21744175],\n",
              "       [34.51644036],\n",
              "       [32.91874352],\n",
              "       [34.65595058],\n",
              "       [33.34734634],\n",
              "       [37.06746964],\n",
              "       [36.17905841],\n",
              "       [39.25123763],\n",
              "       [38.797993  ],\n",
              "       [40.40909881],\n",
              "       [40.70585663],\n",
              "       [41.21642054],\n",
              "       [43.51210748],\n",
              "       [43.58260994],\n",
              "       [43.48069398],\n",
              "       [42.72835192],\n",
              "       [43.84673388],\n",
              "       [45.15917348],\n",
              "       [47.74864491],\n",
              "       [47.5233438 ],\n",
              "       [49.68186539],\n",
              "       [47.16794847],\n",
              "       [48.93652768],\n",
              "       [50.36315496],\n",
              "       [50.08704382],\n",
              "       [52.64942423],\n",
              "       [51.11330817],\n",
              "       [51.07624316],\n",
              "       [54.49090857],\n",
              "       [53.9773822 ],\n",
              "       [53.74280756],\n",
              "       [54.76230066],\n",
              "       [56.9881672 ],\n",
              "       [55.6271501 ],\n",
              "       [56.3760779 ],\n",
              "       [56.77255153],\n",
              "       [57.64327875],\n",
              "       [61.20609861],\n",
              "       [60.65771143],\n",
              "       [60.73343085],\n",
              "       [59.81491294],\n",
              "       [63.79153584],\n",
              "       [62.54503463],\n",
              "       [63.60675322],\n",
              "       [63.47687607],\n",
              "       [64.0430252 ],\n",
              "       [66.017859  ],\n",
              "       [65.37082427],\n",
              "       [66.04502761],\n",
              "       [66.77110576],\n",
              "       [68.15302649],\n",
              "       [69.23295233],\n",
              "       [70.08548397],\n",
              "       [71.52726088],\n",
              "       [71.77126455],\n",
              "       [70.49356277],\n",
              "       [74.07435288]])"
            ]
          },
          "metadata": {},
          "execution_count": 7
        }
      ]
    },
    {
      "cell_type": "code",
      "source": [
        "# plot all points\n",
        "plt.scatter(x, y)"
      ],
      "metadata": {
        "colab": {
          "base_uri": "https://localhost:8080/",
          "height": 447
        },
        "id": "0gpB22jRqYEw",
        "outputId": "a1be6110-8a9a-4980-99bc-e01ad931e3d2"
      },
      "execution_count": 10,
      "outputs": [
        {
          "output_type": "execute_result",
          "data": {
            "text/plain": [
              "<matplotlib.collections.PathCollection at 0x7aca338bf6a0>"
            ]
          },
          "metadata": {},
          "execution_count": 10
        },
        {
          "output_type": "display_data",
          "data": {
            "text/plain": [
              "<Figure size 640x480 with 1 Axes>"
            ],
            "image/png": "[encoded data removed]"
          },
          "metadata": {}
        }
      ]
    },
    {
      "cell_type": "code",
      "source": [
        "## Find k and q using linear regression\n",
        "# first append ones to x\n",
        "X = np.concatenate((x, np.ones((x.size, 1))), axis=1)  # FIXME: X should be matrix of two columns: first column is vector x, second column are ones\n",
        "X"
      ],
      "metadata": {
        "colab": {
          "base_uri": "https://localhost:8080/"
        },
        "id": "15t0ZElvqzrm",
        "outputId": "fb281e2e-a1e9-4115-8887-8207c0b32bfd"
      },
      "execution_count": 11,
      "outputs": [
        {
          "output_type": "execute_result",
          "data": {
            "text/plain": [
              "array([[ 0.,  1.],\n",
              "       [ 1.,  1.],\n",
              "       [ 2.,  1.],\n",
              "       [ 3.,  1.],\n",
              "       [ 4.,  1.],\n",
              "       [ 5.,  1.],\n",
              "       [ 6.,  1.],\n",
              "       [ 7.,  1.],\n",
              "       [ 8.,  1.],\n",
              "       [ 9.,  1.],\n",
              "       [10.,  1.],\n",
              "       [11.,  1.],\n",
              "       [12.,  1.],\n",
              "       [13.,  1.],\n",
              "       [14.,  1.],\n",
              "       [15.,  1.],\n",
              "       [16.,  1.],\n",
              "       [17.,  1.],\n",
              "       [18.,  1.],\n",
              "       [19.,  1.],\n",
              "       [20.,  1.],\n",
              "       [21.,  1.],\n",
              "       [22.,  1.],\n",
              "       [23.,  1.],\n",
              "       [24.,  1.],\n",
              "       [25.,  1.],\n",
              "       [26.,  1.],\n",
              "       [27.,  1.],\n",
              "       [28.,  1.],\n",
              "       [29.,  1.],\n",
              "       [30.,  1.],\n",
              "       [31.,  1.],\n",
              "       [32.,  1.],\n",
              "       [33.,  1.],\n",
              "       [34.,  1.],\n",
              "       [35.,  1.],\n",
              "       [36.,  1.],\n",
              "       [37.,  1.],\n",
              "       [38.,  1.],\n",
              "       [39.,  1.],\n",
              "       [40.,  1.],\n",
              "       [41.,  1.],\n",
              "       [42.,  1.],\n",
              "       [43.,  1.],\n",
              "       [44.,  1.],\n",
              "       [45.,  1.],\n",
              "       [46.,  1.],\n",
              "       [47.,  1.],\n",
              "       [48.,  1.],\n",
              "       [49.,  1.],\n",
              "       [50.,  1.],\n",
              "       [51.,  1.],\n",
              "       [52.,  1.],\n",
              "       [53.,  1.],\n",
              "       [54.,  1.],\n",
              "       [55.,  1.],\n",
              "       [56.,  1.],\n",
              "       [57.,  1.],\n",
              "       [58.,  1.],\n",
              "       [59.,  1.],\n",
              "       [60.,  1.],\n",
              "       [61.,  1.],\n",
              "       [62.,  1.],\n",
              "       [63.,  1.],\n",
              "       [64.,  1.],\n",
              "       [65.,  1.],\n",
              "       [66.,  1.],\n",
              "       [67.,  1.],\n",
              "       [68.,  1.],\n",
              "       [69.,  1.],\n",
              "       [70.,  1.],\n",
              "       [71.,  1.],\n",
              "       [72.,  1.],\n",
              "       [73.,  1.],\n",
              "       [74.,  1.],\n",
              "       [75.,  1.],\n",
              "       [76.,  1.],\n",
              "       [77.,  1.],\n",
              "       [78.,  1.],\n",
              "       [79.,  1.],\n",
              "       [80.,  1.],\n",
              "       [81.,  1.],\n",
              "       [82.,  1.],\n",
              "       [83.,  1.],\n",
              "       [84.,  1.],\n",
              "       [85.,  1.],\n",
              "       [86.,  1.],\n",
              "       [87.,  1.],\n",
              "       [88.,  1.],\n",
              "       [89.,  1.],\n",
              "       [90.,  1.],\n",
              "       [91.,  1.],\n",
              "       [92.,  1.],\n",
              "       [93.,  1.],\n",
              "       [94.,  1.],\n",
              "       [95.,  1.],\n",
              "       [96.,  1.],\n",
              "       [97.,  1.],\n",
              "       [98.,  1.],\n",
              "       [99.,  1.]])"
            ]
          },
          "metadata": {},
          "execution_count": 11
        }
      ]
    },
    {
      "cell_type": "code",
      "source": [
        "# then find params\n",
        "k_pred, q_pred = (X.T @ X)**(-1), X.T @ y   # FIXME: according to slides\n",
        "(k_pred, q_pred)"
      ],
      "metadata": {
        "colab": {
          "base_uri": "https://localhost:8080/"
        },
        "id": "Xytnp7t5q5xP",
        "outputId": "9a732331-1f9b-4808-8742-b0e3cd2dd0fb"
      },
      "execution_count": 12,
      "outputs": [
        {
          "output_type": "execute_result",
          "data": {
            "text/plain": [
              "(array([[3.04553068e-06, 2.02020202e-04],\n",
              "        [2.02020202e-04, 1.00000000e-02]]),\n",
              " array([[245548.59192843],\n",
              "        [  3760.89127342]]))"
            ]
          },
          "metadata": {},
          "execution_count": 12
        }
      ]
    },
    {
      "cell_type": "code",
      "source": [
        "# predict ys and plot as a line\n",
        "y_pred = k_pred @ x + q_pred   # FIXME: according to slides\n",
        "y_pred"
      ],
      "metadata": {
        "colab": {
          "base_uri": "https://localhost:8080/",
          "height": 245
        },
        "id": "MkJcwVQOrBRD",
        "outputId": "969867d7-589a-455d-a3b7-595a22a0c531"
      },
      "execution_count": 13,
      "outputs": [
        {
          "output_type": "error",
          "ename": "ValueError",
          "evalue": "matmul: Input operand 1 has a mismatch in its core dimension 0, with gufunc signature (n?,k),(k,m?)->(n?,m?) (size 100 is different from 2)",
          "traceback": [
            "\u001b[0;31m---------------------------------------------------------------------------\u001b[0m",
            "\u001b[0;31mValueError\u001b[0m                                Traceback (most recent call last)",
            "\u001b[0;32m<ipython-input-13-6a5ea854e7b6>\u001b[0m in \u001b[0;36m<cell line: 2>\u001b[0;34m()\u001b[0m\n\u001b[1;32m      1\u001b[0m \u001b[0;31m# predict ys and plot as a line\u001b[0m\u001b[0;34m\u001b[0m\u001b[0;34m\u001b[0m\u001b[0m\n\u001b[0;32m----> 2\u001b[0;31m \u001b[0my_pred\u001b[0m \u001b[0;34m=\u001b[0m \u001b[0mk_pred\u001b[0m \u001b[0;34m@\u001b[0m \u001b[0mx\u001b[0m \u001b[0;34m+\u001b[0m \u001b[0mq_pred\u001b[0m   \u001b[0;31m# FIXME: according to slides\u001b[0m\u001b[0;34m\u001b[0m\u001b[0;34m\u001b[0m\u001b[0m\n\u001b[0m\u001b[1;32m      3\u001b[0m \u001b[0my_pred\u001b[0m\u001b[0;34m\u001b[0m\u001b[0;34m\u001b[0m\u001b[0m\n",
            "\u001b[0;31mValueError\u001b[0m: matmul: Input operand 1 has a mismatch in its core dimension 0, with gufunc signature (n?,k),(k,m?)->(n?,m?) (size 100 is different from 2)"
          ]
        }
      ]
    },
    {
      "cell_type": "code",
      "source": [
        "# plot predicted\n",
        "plt.plot(x, y_pred, 'r')"
      ],
      "metadata": {
        "colab": {
          "base_uri": "https://localhost:8080/",
          "height": 193
        },
        "id": "cXv3qsYSrLhR",
        "outputId": "059b18f9-b14a-4f62-eda4-8e6d8acd188b"
      },
      "execution_count": 14,
      "outputs": [
        {
          "output_type": "error",
          "ename": "NameError",
          "evalue": "name 'y_pred' is not defined",
          "traceback": [
            "\u001b[0;31m---------------------------------------------------------------------------\u001b[0m",
            "\u001b[0;31mNameError\u001b[0m                                 Traceback (most recent call last)",
            "\u001b[0;32m<ipython-input-14-923871d31028>\u001b[0m in \u001b[0;36m<cell line: 2>\u001b[0;34m()\u001b[0m\n\u001b[1;32m      1\u001b[0m \u001b[0;31m# plot predicted\u001b[0m\u001b[0;34m\u001b[0m\u001b[0;34m\u001b[0m\u001b[0m\n\u001b[0;32m----> 2\u001b[0;31m \u001b[0mplt\u001b[0m\u001b[0;34m.\u001b[0m\u001b[0mplot\u001b[0m\u001b[0;34m(\u001b[0m\u001b[0mx\u001b[0m\u001b[0;34m,\u001b[0m \u001b[0my_pred\u001b[0m\u001b[0;34m,\u001b[0m \u001b[0;34m'r'\u001b[0m\u001b[0;34m)\u001b[0m\u001b[0;34m\u001b[0m\u001b[0;34m\u001b[0m\u001b[0m\n\u001b[0m",
            "\u001b[0;31mNameError\u001b[0m: name 'y_pred' is not defined"
          ]
        }
      ]
    }
  ]
}