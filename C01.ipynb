{
  "nbformat": 4,
  "nbformat_minor": 0,
  "metadata": {
    "colab": {
      "provenance": [],
      "authorship_tag": "ABX9TyPGhlJkRT4Jtv6sHx+duYoB",
      "include_colab_link": true
    },
    "kernelspec": {
      "name": "python3",
      "display_name": "Python 3"
    },
    "language_info": {
      "name": "python"
    }
  },
  "cells": [
    {
      "cell_type": "markdown",
      "metadata": {
        "id": "view-in-github",
        "colab_type": "text"
      },
      "source": [
        "<a href=\"https://colab.research.google.com/github/Kaveshnikov/FMPHNeuralNetworks/blob/master/C01.ipynb\" target=\"_parent\"><img src=\"https://colab.research.google.com/assets/colab-badge.svg\" alt=\"Open In Colab\"/></a>"
      ]
    },
    {
      "cell_type": "code",
      "execution_count": 2,
      "metadata": {
        "colab": {
          "base_uri": "https://localhost:8080/"
        },
        "id": "WMlbUweGobOT",
        "outputId": "b5189abe-8864-4f55-8934-14b66e46b93c"
      },
      "outputs": [
        {
          "output_type": "execute_result",
          "data": {
            "text/plain": [
              "array([[ 0],\n",
              "       [ 1],\n",
              "       [ 2],\n",
              "       [ 3],\n",
              "       [ 4],\n",
              "       [ 5],\n",
              "       [ 6],\n",
              "       [ 7],\n",
              "       [ 8],\n",
              "       [ 9],\n",
              "       [10],\n",
              "       [11],\n",
              "       [12],\n",
              "       [13],\n",
              "       [14],\n",
              "       [15],\n",
              "       [16],\n",
              "       [17],\n",
              "       [18],\n",
              "       [19],\n",
              "       [20],\n",
              "       [21],\n",
              "       [22],\n",
              "       [23],\n",
              "       [24],\n",
              "       [25],\n",
              "       [26],\n",
              "       [27],\n",
              "       [28],\n",
              "       [29],\n",
              "       [30],\n",
              "       [31],\n",
              "       [32],\n",
              "       [33],\n",
              "       [34],\n",
              "       [35],\n",
              "       [36],\n",
              "       [37],\n",
              "       [38],\n",
              "       [39],\n",
              "       [40],\n",
              "       [41],\n",
              "       [42],\n",
              "       [43],\n",
              "       [44],\n",
              "       [45],\n",
              "       [46],\n",
              "       [47],\n",
              "       [48],\n",
              "       [49],\n",
              "       [50],\n",
              "       [51],\n",
              "       [52],\n",
              "       [53],\n",
              "       [54],\n",
              "       [55],\n",
              "       [56],\n",
              "       [57],\n",
              "       [58],\n",
              "       [59],\n",
              "       [60],\n",
              "       [61],\n",
              "       [62],\n",
              "       [63],\n",
              "       [64],\n",
              "       [65],\n",
              "       [66],\n",
              "       [67],\n",
              "       [68],\n",
              "       [69],\n",
              "       [70],\n",
              "       [71],\n",
              "       [72],\n",
              "       [73],\n",
              "       [74],\n",
              "       [75],\n",
              "       [76],\n",
              "       [77],\n",
              "       [78],\n",
              "       [79],\n",
              "       [80],\n",
              "       [81],\n",
              "       [82],\n",
              "       [83],\n",
              "       [84],\n",
              "       [85],\n",
              "       [86],\n",
              "       [87],\n",
              "       [88],\n",
              "       [89],\n",
              "       [90],\n",
              "       [91],\n",
              "       [92],\n",
              "       [93],\n",
              "       [94],\n",
              "       [95],\n",
              "       [96],\n",
              "       [97],\n",
              "       [98],\n",
              "       [99]])"
            ]
          },
          "metadata": {},
          "execution_count": 2
        }
      ],
      "source": [
        "# Neural Networks (2-AIN-132/15), FMFI UK BA\n",
        "# (c) Tomas Kuzma, Juraj Holas, Peter Gergel, Endre Hamerlik, Štefan Pócoš, Iveta Bečková 2017-2024\n",
        "\n",
        "import numpy as np\n",
        "import matplotlib.pyplot as plt\n",
        "\n",
        "\n",
        "## Generate data\n",
        "# number of points\n",
        "N = 100\n",
        "\n",
        "# generate x values\n",
        "x = np.arange(N).reshape(-1, 1)   # FIXME: vector [0, 1, 2, ..., N-1]\n",
        "x"
      ]
    },
    {
      "cell_type": "code",
      "source": [
        "# generate random slope (k) and shift (q)\n",
        "k = np.random.rand()   # FIXME: random number from normal distribution\n",
        "k"
      ],
      "metadata": {
        "colab": {
          "base_uri": "https://localhost:8080/"
        },
        "id": "M2exAAm8p7Id",
        "outputId": "0ca0aaf7-55fe-4f0e-d0bd-1771ad116a08"
      },
      "execution_count": 3,
      "outputs": [
        {
          "output_type": "execute_result",
          "data": {
            "text/plain": [
              "0.149132533565008"
            ]
          },
          "metadata": {},
          "execution_count": 3
        }
      ]
    },
    {
      "cell_type": "code",
      "source": [
        "q = np.random.randn()   # FIXME: random number from uniform distribution\n",
        "q"
      ],
      "metadata": {
        "colab": {
          "base_uri": "https://localhost:8080/"
        },
        "id": "Rz32mHCeqJe_",
        "outputId": "eb65df23-0baf-443c-bc7d-b18cd12144dd"
      },
      "execution_count": 4,
      "outputs": [
        {
          "output_type": "execute_result",
          "data": {
            "text/plain": [
              "-0.47658341852496083"
            ]
          },
          "metadata": {},
          "execution_count": 4
        }
      ]
    },
    {
      "cell_type": "code",
      "source": [
        "# calculate y values\n",
        "y = k * x + q   # FIXME: according to slides\n",
        "y"
      ],
      "metadata": {
        "colab": {
          "base_uri": "https://localhost:8080/"
        },
        "id": "sv7Q9aeQqHXH",
        "outputId": "f8082c5a-8342-479d-d782-fd0b04decf98"
      },
      "execution_count": 5,
      "outputs": [
        {
          "output_type": "execute_result",
          "data": {
            "text/plain": [
              "array([[-0.47658342],\n",
              "       [-0.32745088],\n",
              "       [-0.17831835],\n",
              "       [-0.02918582],\n",
              "       [ 0.11994672],\n",
              "       [ 0.26907925],\n",
              "       [ 0.41821178],\n",
              "       [ 0.56734432],\n",
              "       [ 0.71647685],\n",
              "       [ 0.86560938],\n",
              "       [ 1.01474192],\n",
              "       [ 1.16387445],\n",
              "       [ 1.31300698],\n",
              "       [ 1.46213952],\n",
              "       [ 1.61127205],\n",
              "       [ 1.76040458],\n",
              "       [ 1.90953712],\n",
              "       [ 2.05866965],\n",
              "       [ 2.20780219],\n",
              "       [ 2.35693472],\n",
              "       [ 2.50606725],\n",
              "       [ 2.65519979],\n",
              "       [ 2.80433232],\n",
              "       [ 2.95346485],\n",
              "       [ 3.10259739],\n",
              "       [ 3.25172992],\n",
              "       [ 3.40086245],\n",
              "       [ 3.54999499],\n",
              "       [ 3.69912752],\n",
              "       [ 3.84826005],\n",
              "       [ 3.99739259],\n",
              "       [ 4.14652512],\n",
              "       [ 4.29565766],\n",
              "       [ 4.44479019],\n",
              "       [ 4.59392272],\n",
              "       [ 4.74305526],\n",
              "       [ 4.89218779],\n",
              "       [ 5.04132032],\n",
              "       [ 5.19045286],\n",
              "       [ 5.33958539],\n",
              "       [ 5.48871792],\n",
              "       [ 5.63785046],\n",
              "       [ 5.78698299],\n",
              "       [ 5.93611552],\n",
              "       [ 6.08524806],\n",
              "       [ 6.23438059],\n",
              "       [ 6.38351313],\n",
              "       [ 6.53264566],\n",
              "       [ 6.68177819],\n",
              "       [ 6.83091073],\n",
              "       [ 6.98004326],\n",
              "       [ 7.12917579],\n",
              "       [ 7.27830833],\n",
              "       [ 7.42744086],\n",
              "       [ 7.57657339],\n",
              "       [ 7.72570593],\n",
              "       [ 7.87483846],\n",
              "       [ 8.02397099],\n",
              "       [ 8.17310353],\n",
              "       [ 8.32223606],\n",
              "       [ 8.4713686 ],\n",
              "       [ 8.62050113],\n",
              "       [ 8.76963366],\n",
              "       [ 8.9187662 ],\n",
              "       [ 9.06789873],\n",
              "       [ 9.21703126],\n",
              "       [ 9.3661638 ],\n",
              "       [ 9.51529633],\n",
              "       [ 9.66442886],\n",
              "       [ 9.8135614 ],\n",
              "       [ 9.96269393],\n",
              "       [10.11182646],\n",
              "       [10.260959  ],\n",
              "       [10.41009153],\n",
              "       [10.55922407],\n",
              "       [10.7083566 ],\n",
              "       [10.85748913],\n",
              "       [11.00662167],\n",
              "       [11.1557542 ],\n",
              "       [11.30488673],\n",
              "       [11.45401927],\n",
              "       [11.6031518 ],\n",
              "       [11.75228433],\n",
              "       [11.90141687],\n",
              "       [12.0505494 ],\n",
              "       [12.19968193],\n",
              "       [12.34881447],\n",
              "       [12.497947  ],\n",
              "       [12.64707954],\n",
              "       [12.79621207],\n",
              "       [12.9453446 ],\n",
              "       [13.09447714],\n",
              "       [13.24360967],\n",
              "       [13.3927422 ],\n",
              "       [13.54187474],\n",
              "       [13.69100727],\n",
              "       [13.8401398 ],\n",
              "       [13.98927234],\n",
              "       [14.13840487],\n",
              "       [14.2875374 ]])"
            ]
          },
          "metadata": {},
          "execution_count": 5
        }
      ]
    },
    {
      "cell_type": "code",
      "source": [
        "# add noise\n",
        "rng = np.random.default_rng()\n",
        "y += rng.standard_normal(y.size).reshape(-1, 1)  # FIXME: add vector of random values from normal distribution\n",
        "y"
      ],
      "metadata": {
        "colab": {
          "base_uri": "https://localhost:8080/"
        },
        "id": "K14qvSLyqQLo",
        "outputId": "d79edae2-cce6-4ed2-85af-936525e96b3d"
      },
      "execution_count": 6,
      "outputs": [
        {
          "output_type": "execute_result",
          "data": {
            "text/plain": [
              "array([[-1.15070788],\n",
              "       [-0.48504705],\n",
              "       [-0.87634484],\n",
              "       [ 0.49887766],\n",
              "       [-0.53241221],\n",
              "       [ 0.62566166],\n",
              "       [ 0.14128858],\n",
              "       [ 0.9664425 ],\n",
              "       [ 0.9074083 ],\n",
              "       [ 0.83773526],\n",
              "       [ 2.78762999],\n",
              "       [ 2.00013222],\n",
              "       [ 0.91554341],\n",
              "       [-0.39495327],\n",
              "       [-0.87063596],\n",
              "       [ 1.65540137],\n",
              "       [ 3.32569064],\n",
              "       [ 2.66482562],\n",
              "       [ 2.86751467],\n",
              "       [ 3.24596021],\n",
              "       [ 3.69875217],\n",
              "       [ 3.03165629],\n",
              "       [ 3.36125362],\n",
              "       [ 4.85311039],\n",
              "       [ 4.18247058],\n",
              "       [ 4.23065225],\n",
              "       [ 4.5097321 ],\n",
              "       [ 3.6851068 ],\n",
              "       [ 3.04028023],\n",
              "       [ 3.30021763],\n",
              "       [ 4.72112009],\n",
              "       [ 3.86302169],\n",
              "       [ 5.22920293],\n",
              "       [ 3.82856766],\n",
              "       [ 3.57841515],\n",
              "       [ 4.33927712],\n",
              "       [ 6.52732814],\n",
              "       [ 5.70958064],\n",
              "       [ 5.16471363],\n",
              "       [ 5.33092053],\n",
              "       [ 6.39671676],\n",
              "       [ 7.26155146],\n",
              "       [ 5.35001481],\n",
              "       [ 6.3811392 ],\n",
              "       [ 6.60605429],\n",
              "       [ 5.41379004],\n",
              "       [ 6.95902087],\n",
              "       [ 7.00603855],\n",
              "       [ 7.06204337],\n",
              "       [ 5.31585205],\n",
              "       [ 7.41522485],\n",
              "       [ 8.76104919],\n",
              "       [ 6.3010019 ],\n",
              "       [ 8.46053217],\n",
              "       [ 8.76713159],\n",
              "       [ 7.6265032 ],\n",
              "       [ 7.41497904],\n",
              "       [ 8.92619339],\n",
              "       [ 7.82197252],\n",
              "       [ 9.49698629],\n",
              "       [ 7.31471218],\n",
              "       [ 7.86305969],\n",
              "       [ 9.60211958],\n",
              "       [ 7.74291992],\n",
              "       [ 9.3078768 ],\n",
              "       [ 9.92010089],\n",
              "       [ 8.72897586],\n",
              "       [10.66188125],\n",
              "       [12.02625432],\n",
              "       [10.20786916],\n",
              "       [ 8.69502913],\n",
              "       [ 9.86434108],\n",
              "       [10.43571401],\n",
              "       [ 9.65390332],\n",
              "       [ 9.71363851],\n",
              "       [10.00712305],\n",
              "       [11.37905529],\n",
              "       [ 9.55782366],\n",
              "       [10.28473587],\n",
              "       [12.93849104],\n",
              "       [12.26416347],\n",
              "       [10.70705944],\n",
              "       [12.23173672],\n",
              "       [11.69656221],\n",
              "       [12.25502156],\n",
              "       [13.15622184],\n",
              "       [11.93106608],\n",
              "       [11.80583332],\n",
              "       [13.16324921],\n",
              "       [11.88574706],\n",
              "       [11.58648434],\n",
              "       [14.22798838],\n",
              "       [13.31210666],\n",
              "       [13.3596875 ],\n",
              "       [13.0576393 ],\n",
              "       [15.38148524],\n",
              "       [13.14744875],\n",
              "       [13.9855635 ],\n",
              "       [14.12254804],\n",
              "       [14.65983239]])"
            ]
          },
          "metadata": {},
          "execution_count": 6
        }
      ]
    },
    {
      "cell_type": "code",
      "source": [
        "# plot all points\n",
        "plt.scatter(x, y)"
      ],
      "metadata": {
        "colab": {
          "base_uri": "https://localhost:8080/",
          "height": 447
        },
        "id": "0gpB22jRqYEw",
        "outputId": "940586d7-ca89-459d-e919-0cf731b66bbe"
      },
      "execution_count": 21,
      "outputs": [
        {
          "output_type": "execute_result",
          "data": {
            "text/plain": [
              "<matplotlib.collections.PathCollection at 0x7b537104b6a0>"
            ]
          },
          "metadata": {},
          "execution_count": 21
        },
        {
          "output_type": "display_data",
          "data": {
            "text/plain": [
              "<Figure size 640x480 with 1 Axes>"
            ],
            "image/png": "[encoded data removed]"
          },
          "metadata": {}
        }
      ]
    },
    {
      "cell_type": "code",
      "source": [
        "x.reshape((len(x), 1))"
      ],
      "metadata": {
        "colab": {
          "base_uri": "https://localhost:8080/"
        },
        "id": "Uh3QTYIVVF4A",
        "outputId": "b7aab467-03cf-434c-b519-76386645ce47"
      },
      "execution_count": 16,
      "outputs": [
        {
          "output_type": "execute_result",
          "data": {
            "text/plain": [
              "array([[ 0],\n",
              "       [ 1],\n",
              "       [ 2],\n",
              "       [ 3],\n",
              "       [ 4],\n",
              "       [ 5],\n",
              "       [ 6],\n",
              "       [ 7],\n",
              "       [ 8],\n",
              "       [ 9],\n",
              "       [10],\n",
              "       [11],\n",
              "       [12],\n",
              "       [13],\n",
              "       [14],\n",
              "       [15],\n",
              "       [16],\n",
              "       [17],\n",
              "       [18],\n",
              "       [19],\n",
              "       [20],\n",
              "       [21],\n",
              "       [22],\n",
              "       [23],\n",
              "       [24],\n",
              "       [25],\n",
              "       [26],\n",
              "       [27],\n",
              "       [28],\n",
              "       [29],\n",
              "       [30],\n",
              "       [31],\n",
              "       [32],\n",
              "       [33],\n",
              "       [34],\n",
              "       [35],\n",
              "       [36],\n",
              "       [37],\n",
              "       [38],\n",
              "       [39],\n",
              "       [40],\n",
              "       [41],\n",
              "       [42],\n",
              "       [43],\n",
              "       [44],\n",
              "       [45],\n",
              "       [46],\n",
              "       [47],\n",
              "       [48],\n",
              "       [49],\n",
              "       [50],\n",
              "       [51],\n",
              "       [52],\n",
              "       [53],\n",
              "       [54],\n",
              "       [55],\n",
              "       [56],\n",
              "       [57],\n",
              "       [58],\n",
              "       [59],\n",
              "       [60],\n",
              "       [61],\n",
              "       [62],\n",
              "       [63],\n",
              "       [64],\n",
              "       [65],\n",
              "       [66],\n",
              "       [67],\n",
              "       [68],\n",
              "       [69],\n",
              "       [70],\n",
              "       [71],\n",
              "       [72],\n",
              "       [73],\n",
              "       [74],\n",
              "       [75],\n",
              "       [76],\n",
              "       [77],\n",
              "       [78],\n",
              "       [79],\n",
              "       [80],\n",
              "       [81],\n",
              "       [82],\n",
              "       [83],\n",
              "       [84],\n",
              "       [85],\n",
              "       [86],\n",
              "       [87],\n",
              "       [88],\n",
              "       [89],\n",
              "       [90],\n",
              "       [91],\n",
              "       [92],\n",
              "       [93],\n",
              "       [94],\n",
              "       [95],\n",
              "       [96],\n",
              "       [97],\n",
              "       [98],\n",
              "       [99]])"
            ]
          },
          "metadata": {},
          "execution_count": 16
        }
      ]
    },
    {
      "cell_type": "code",
      "source": [
        "## Find k and q using linear regression\n",
        "# first append ones to x\n",
        "X = np.concatenate((x, np.ones((x.size, 1))), axis=1)  # FIXME: X should be matrix of two columns: first column is vector x, second column are ones\n",
        "X"
      ],
      "metadata": {
        "colab": {
          "base_uri": "https://localhost:8080/"
        },
        "id": "15t0ZElvqzrm",
        "outputId": "228d002c-c3d4-4306-8e70-e7868d835d97"
      },
      "execution_count": 8,
      "outputs": [
        {
          "output_type": "execute_result",
          "data": {
            "text/plain": [
              "array([[ 0.,  1.],\n",
              "       [ 1.,  1.],\n",
              "       [ 2.,  1.],\n",
              "       [ 3.,  1.],\n",
              "       [ 4.,  1.],\n",
              "       [ 5.,  1.],\n",
              "       [ 6.,  1.],\n",
              "       [ 7.,  1.],\n",
              "       [ 8.,  1.],\n",
              "       [ 9.,  1.],\n",
              "       [10.,  1.],\n",
              "       [11.,  1.],\n",
              "       [12.,  1.],\n",
              "       [13.,  1.],\n",
              "       [14.,  1.],\n",
              "       [15.,  1.],\n",
              "       [16.,  1.],\n",
              "       [17.,  1.],\n",
              "       [18.,  1.],\n",
              "       [19.,  1.],\n",
              "       [20.,  1.],\n",
              "       [21.,  1.],\n",
              "       [22.,  1.],\n",
              "       [23.,  1.],\n",
              "       [24.,  1.],\n",
              "       [25.,  1.],\n",
              "       [26.,  1.],\n",
              "       [27.,  1.],\n",
              "       [28.,  1.],\n",
              "       [29.,  1.],\n",
              "       [30.,  1.],\n",
              "       [31.,  1.],\n",
              "       [32.,  1.],\n",
              "       [33.,  1.],\n",
              "       [34.,  1.],\n",
              "       [35.,  1.],\n",
              "       [36.,  1.],\n",
              "       [37.,  1.],\n",
              "       [38.,  1.],\n",
              "       [39.,  1.],\n",
              "       [40.,  1.],\n",
              "       [41.,  1.],\n",
              "       [42.,  1.],\n",
              "       [43.,  1.],\n",
              "       [44.,  1.],\n",
              "       [45.,  1.],\n",
              "       [46.,  1.],\n",
              "       [47.,  1.],\n",
              "       [48.,  1.],\n",
              "       [49.,  1.],\n",
              "       [50.,  1.],\n",
              "       [51.,  1.],\n",
              "       [52.,  1.],\n",
              "       [53.,  1.],\n",
              "       [54.,  1.],\n",
              "       [55.,  1.],\n",
              "       [56.,  1.],\n",
              "       [57.,  1.],\n",
              "       [58.,  1.],\n",
              "       [59.,  1.],\n",
              "       [60.,  1.],\n",
              "       [61.,  1.],\n",
              "       [62.,  1.],\n",
              "       [63.,  1.],\n",
              "       [64.,  1.],\n",
              "       [65.,  1.],\n",
              "       [66.,  1.],\n",
              "       [67.,  1.],\n",
              "       [68.,  1.],\n",
              "       [69.,  1.],\n",
              "       [70.,  1.],\n",
              "       [71.,  1.],\n",
              "       [72.,  1.],\n",
              "       [73.,  1.],\n",
              "       [74.,  1.],\n",
              "       [75.,  1.],\n",
              "       [76.,  1.],\n",
              "       [77.,  1.],\n",
              "       [78.,  1.],\n",
              "       [79.,  1.],\n",
              "       [80.,  1.],\n",
              "       [81.,  1.],\n",
              "       [82.,  1.],\n",
              "       [83.,  1.],\n",
              "       [84.,  1.],\n",
              "       [85.,  1.],\n",
              "       [86.,  1.],\n",
              "       [87.,  1.],\n",
              "       [88.,  1.],\n",
              "       [89.,  1.],\n",
              "       [90.,  1.],\n",
              "       [91.,  1.],\n",
              "       [92.,  1.],\n",
              "       [93.,  1.],\n",
              "       [94.,  1.],\n",
              "       [95.,  1.],\n",
              "       [96.,  1.],\n",
              "       [97.,  1.],\n",
              "       [98.,  1.],\n",
              "       [99.,  1.]])"
            ]
          },
          "metadata": {},
          "execution_count": 8
        }
      ]
    },
    {
      "cell_type": "code",
      "source": [
        "# then find params\n",
        "k_pred, q_pred = np.linalg.inv(X.T @ X).dot(X.T).dot(y)   # FIXME: according to slides\n",
        "(k_pred, q_pred)"
      ],
      "metadata": {
        "colab": {
          "base_uri": "https://localhost:8080/"
        },
        "id": "Xytnp7t5q5xP",
        "outputId": "cd9f27ce-128f-4eda-9637-7fb03b7feefb"
      },
      "execution_count": 17,
      "outputs": [
        {
          "output_type": "execute_result",
          "data": {
            "text/plain": [
              "(array([0.14673967]), array([-0.22459097]))"
            ]
          },
          "metadata": {},
          "execution_count": 17
        }
      ]
    },
    {
      "cell_type": "code",
      "source": [
        "# predict ys and plot as a line\n",
        "y_pred = k_pred * x + q_pred  # FIXME: according to slides\n",
        "y_pred"
      ],
      "metadata": {
        "colab": {
          "base_uri": "https://localhost:8080/"
        },
        "id": "MkJcwVQOrBRD",
        "outputId": "5528e35f-3be9-4ed8-e4cd-bd076a42ddd9"
      },
      "execution_count": 18,
      "outputs": [
        {
          "output_type": "execute_result",
          "data": {
            "text/plain": [
              "array([[-0.22459097],\n",
              "       [-0.0778513 ],\n",
              "       [ 0.06888837],\n",
              "       [ 0.21562803],\n",
              "       [ 0.3623677 ],\n",
              "       [ 0.50910737],\n",
              "       [ 0.65584704],\n",
              "       [ 0.8025867 ],\n",
              "       [ 0.94932637],\n",
              "       [ 1.09606604],\n",
              "       [ 1.2428057 ],\n",
              "       [ 1.38954537],\n",
              "       [ 1.53628504],\n",
              "       [ 1.68302471],\n",
              "       [ 1.82976437],\n",
              "       [ 1.97650404],\n",
              "       [ 2.12324371],\n",
              "       [ 2.26998337],\n",
              "       [ 2.41672304],\n",
              "       [ 2.56346271],\n",
              "       [ 2.71020238],\n",
              "       [ 2.85694204],\n",
              "       [ 3.00368171],\n",
              "       [ 3.15042138],\n",
              "       [ 3.29716104],\n",
              "       [ 3.44390071],\n",
              "       [ 3.59064038],\n",
              "       [ 3.73738005],\n",
              "       [ 3.88411971],\n",
              "       [ 4.03085938],\n",
              "       [ 4.17759905],\n",
              "       [ 4.32433871],\n",
              "       [ 4.47107838],\n",
              "       [ 4.61781805],\n",
              "       [ 4.76455772],\n",
              "       [ 4.91129738],\n",
              "       [ 5.05803705],\n",
              "       [ 5.20477672],\n",
              "       [ 5.35151638],\n",
              "       [ 5.49825605],\n",
              "       [ 5.64499572],\n",
              "       [ 5.79173539],\n",
              "       [ 5.93847505],\n",
              "       [ 6.08521472],\n",
              "       [ 6.23195439],\n",
              "       [ 6.37869405],\n",
              "       [ 6.52543372],\n",
              "       [ 6.67217339],\n",
              "       [ 6.81891306],\n",
              "       [ 6.96565272],\n",
              "       [ 7.11239239],\n",
              "       [ 7.25913206],\n",
              "       [ 7.40587172],\n",
              "       [ 7.55261139],\n",
              "       [ 7.69935106],\n",
              "       [ 7.84609073],\n",
              "       [ 7.99283039],\n",
              "       [ 8.13957006],\n",
              "       [ 8.28630973],\n",
              "       [ 8.4330494 ],\n",
              "       [ 8.57978906],\n",
              "       [ 8.72652873],\n",
              "       [ 8.8732684 ],\n",
              "       [ 9.02000806],\n",
              "       [ 9.16674773],\n",
              "       [ 9.3134874 ],\n",
              "       [ 9.46022707],\n",
              "       [ 9.60696673],\n",
              "       [ 9.7537064 ],\n",
              "       [ 9.90044607],\n",
              "       [10.04718573],\n",
              "       [10.1939254 ],\n",
              "       [10.34066507],\n",
              "       [10.48740474],\n",
              "       [10.6341444 ],\n",
              "       [10.78088407],\n",
              "       [10.92762374],\n",
              "       [11.0743634 ],\n",
              "       [11.22110307],\n",
              "       [11.36784274],\n",
              "       [11.51458241],\n",
              "       [11.66132207],\n",
              "       [11.80806174],\n",
              "       [11.95480141],\n",
              "       [12.10154107],\n",
              "       [12.24828074],\n",
              "       [12.39502041],\n",
              "       [12.54176008],\n",
              "       [12.68849974],\n",
              "       [12.83523941],\n",
              "       [12.98197908],\n",
              "       [13.12871874],\n",
              "       [13.27545841],\n",
              "       [13.42219808],\n",
              "       [13.56893775],\n",
              "       [13.71567741],\n",
              "       [13.86241708],\n",
              "       [14.00915675],\n",
              "       [14.15589641],\n",
              "       [14.30263608]])"
            ]
          },
          "metadata": {},
          "execution_count": 18
        }
      ]
    },
    {
      "cell_type": "code",
      "source": [
        "# plot predicted\n",
        "plt.scatter(x, y)\n",
        "plt.plot(x, y_pred, 'r')\n",
        "plt.show()"
      ],
      "metadata": {
        "colab": {
          "base_uri": "https://localhost:8080/",
          "height": 430
        },
        "id": "cXv3qsYSrLhR",
        "outputId": "3a73c9f9-3df4-4fb4-9c03-5f9de3791cb3"
      },
      "execution_count": 23,
      "outputs": [
        {
          "output_type": "display_data",
          "data": {
            "text/plain": [
              "<Figure size 640x480 with 1 Axes>"
            ],
            "image/png": "[encoded data removed]"
          },
          "metadata": {}
        }
      ]
    }
  ]
}